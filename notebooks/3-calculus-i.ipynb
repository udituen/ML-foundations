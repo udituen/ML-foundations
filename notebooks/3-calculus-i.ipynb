{
  "nbformat": 4,
  "nbformat_minor": 0,
  "metadata": {
    "colab": {
      "name": "3-calculus-i.ipynb",
      "provenance": [],
      "include_colab_link": true
    },
    "kernelspec": {
      "display_name": "Python 3",
      "language": "python",
      "name": "python3"
    },
    "language_info": {
      "codemirror_mode": {
        "name": "ipython",
        "version": 3
      },
      "file_extension": ".py",
      "mimetype": "text/x-python",
      "name": "python",
      "nbconvert_exporter": "python",
      "pygments_lexer": "ipython3",
      "version": "3.7.6"
    }
  },
  "cells": [
    {
      "cell_type": "markdown",
      "metadata": {
        "id": "view-in-github",
        "colab_type": "text"
      },
      "source": [
        "<a href=\"https://colab.research.google.com/github/udituen/ML-foundations/blob/master/notebooks/3-calculus-i.ipynb\" target=\"_parent\"><img src=\"https://colab.research.google.com/assets/colab-badge.svg\" alt=\"Open In Colab\"/></a>"
      ]
    },
    {
      "cell_type": "markdown",
      "metadata": {
        "id": "aTOLgsbN69-P"
      },
      "source": [
        "# Calculus I: Limits & Derivatives"
      ]
    },
    {
      "cell_type": "markdown",
      "metadata": {
        "id": "yqUB9FTRAxd-"
      },
      "source": [
        "This topic, *Calculus I: Limits & Derivatives*, introduces the mathematical field of calculus -- the study of rates of change -- from the ground up. It is essential because computing derivatives via differentiation is the basis of optimizing most machine learning algorithms, including those used in deep learning such as backpropagation and stochastic gradient descent.\n",
        "\n",
        "Through the measured exposition of theory paired with interactive examples, you’ll develop a working understanding of how calculus is used to compute limits and differentiate functions. You’ll also learn how to apply automatic differentiation within the popular TensorFlow 2 and PyTorch machine learning libraries. The content covered in this class is itself foundational for several other topics in the *Machine Learning Foundations* series, especially *Calculus II* and *Optimization*."
      ]
    },
    {
      "cell_type": "markdown",
      "metadata": {
        "id": "d4tBvI88BheF"
      },
      "source": [
        "Over the course of studying this topic, you'll:\n",
        "\n",
        "* Develop an understanding of what’s going on beneath the hood of machine learning algorithms, including those used for deep learning.\n",
        "* Be able to more intimately grasp the details of machine learning papers as well as many of the other subjects that underlie ML, including partial-derivative calculus, statistics and optimization algorithms.\n",
        "* Compute the derivatives of functions, including by using AutoDiff in the popular TensorFlow 2 and PyTorch libraries."
      ]
    },
    {
      "cell_type": "markdown",
      "metadata": {
        "id": "Z68nQ0ekCYhF"
      },
      "source": [
        "**Note that this Jupyter notebook is not intended to stand alone. It is the companion code to a lecture or to videos from Jon Krohn's [Machine Learning Foundations](https://github.com/jonkrohn/ML-foundations) series, which offer detail on the following:**\n",
        "\n",
        "*Segment 1: Limits*\n",
        "\n",
        "* What Calculus Is\n",
        "* A Brief History of Calculus\n",
        "* The Method of Exhaustion\n",
        "* Calculating Limits\n",
        "\n",
        "*Segment 2: Computing Derivatives with Differentiation*\n",
        "* The Delta Method\n",
        "* The Differentiation Equation\n",
        "* Derivative Notation\n",
        "* The Power Rule\n",
        "* The Constant Multiple Rule\n",
        "* The Sum Rule\n",
        "* The Product Rule\n",
        "* The Quotient Rule\n",
        "* The Chain Rule\n",
        "\n",
        "*Segment 3: Automatic Differentiation*\n",
        "* AutoDiff with PyTorch\n",
        "* AutoDiff with TensorFlow 2\n",
        "* Machine Learning via Differentiation\n",
        "* Cost (or Loss) Functions\n",
        "* The Future: Differentiable Programming\n"
      ]
    },
    {
      "cell_type": "markdown",
      "metadata": {
        "id": "1SHRQmz0cxYw"
      },
      "source": [
        "## Segment 1: Limits"
      ]
    },
    {
      "cell_type": "markdown",
      "metadata": {
        "id": "ab2YePNtcxYx"
      },
      "source": [
        "### The Calculus of Infinitesimals"
      ]
    },
    {
      "cell_type": "code",
      "metadata": {
        "id": "Bzug184ZcxYx"
      },
      "source": [
        "import numpy as np\n",
        "import matplotlib.pyplot as plt"
      ],
      "execution_count": 1,
      "outputs": []
    },
    {
      "cell_type": "code",
      "metadata": {
        "id": "Kgjg4q4kcxY1"
      },
      "source": [
        "x = np.linspace(-10, 10, 10000) # start, finish, n points"
      ],
      "execution_count": 2,
      "outputs": []
    },
    {
      "cell_type": "markdown",
      "metadata": {
        "id": "MHWrqwBacxY4"
      },
      "source": [
        "If $y = x^2 + 2x + 2$:"
      ]
    },
    {
      "cell_type": "code",
      "metadata": {
        "id": "y4oTgUY_cxY5"
      },
      "source": [
        "y = x**2 + 2*x + 2"
      ],
      "execution_count": 3,
      "outputs": []
    },
    {
      "cell_type": "code",
      "metadata": {
        "id": "5OxJjePDcxY8",
        "colab": {
          "base_uri": "https://localhost:8080/",
          "height": 430
        },
        "outputId": "500d8eaf-e7a6-4aed-b5e4-05f9ddbb7afb"
      },
      "source": [
        "fig, ax = plt.subplots()\n",
        "_ = ax.plot(x,y)"
      ],
      "execution_count": 4,
      "outputs": [
        {
          "output_type": "display_data",
          "data": {
            "text/plain": [
              "<Figure size 640x480 with 1 Axes>"
            ],
            "image/png": "[encoded data removed]"
          },
          "metadata": {}
        }
      ]
    },
    {
      "cell_type": "markdown",
      "metadata": {
        "id": "5IjlYM5LcxY_"
      },
      "source": [
        "* There are no straight lines on the curve.\n",
        "* If we zoom in _infinitely_ close, however, we observe curves that _approach_ lines.\n",
        "* This enables us to find a slope $m$ (tangent) anywhere on the curve, including to identify where $m = 0$:"
      ]
    },
    {
      "cell_type": "code",
      "metadata": {
        "id": "nJ1n043-cxZA",
        "colab": {
          "base_uri": "https://localhost:8080/",
          "height": 435
        },
        "outputId": "8caa8b88-0f07-4a70-e239-eb638d4bd251"
      },
      "source": [
        "fig, ax = plt.subplots()\n",
        "ax.set_xlim([-2, -0])\n",
        "ax.set_ylim([0, 2])\n",
        "_ = ax.plot(x,y)"
      ],
      "execution_count": 5,
      "outputs": [
        {
          "output_type": "display_data",
          "data": {
            "text/plain": [
              "<Figure size 640x480 with 1 Axes>"
            ],
            "image/png": "[encoded data removed]"
          },
          "metadata": {}
        }
      ]
    },
    {
      "cell_type": "code",
      "metadata": {
        "id": "tgrXcqfScxZD",
        "colab": {
          "base_uri": "https://localhost:8080/",
          "height": 430
        },
        "outputId": "73b8c2f0-8728-47c6-eba5-2485277d84d2"
      },
      "source": [
        "fig, ax = plt.subplots()\n",
        "ax.set_xlim([-1.5, -0.5])\n",
        "ax.set_ylim([0.5, 1.5])\n",
        "_ = ax.plot(x,y)"
      ],
      "execution_count": 6,
      "outputs": [
        {
          "output_type": "display_data",
          "data": {
            "text/plain": [
              "<Figure size 640x480 with 1 Axes>"
            ],
            "image/png": "[encoded data removed]"
          },
          "metadata": {}
        }
      ]
    },
    {
      "cell_type": "code",
      "metadata": {
        "id": "8osTRq2AcxZG",
        "colab": {
          "base_uri": "https://localhost:8080/",
          "height": 435
        },
        "outputId": "5fb877dc-cd07-41a1-e92c-e4256667a85f"
      },
      "source": [
        "fig, ax = plt.subplots()\n",
        "ax.set_xlim([-1.1, -0.9])\n",
        "ax.set_ylim([0.9, 1.1])\n",
        "_ = ax.plot(x,y)"
      ],
      "execution_count": 7,
      "outputs": [
        {
          "output_type": "display_data",
          "data": {
            "text/plain": [
              "<Figure size 640x480 with 1 Axes>"
            ],
            "image/png": "[encoded data removed]"
          },
          "metadata": {}
        }
      ]
    },
    {
      "cell_type": "code",
      "metadata": {
        "id": "tpcDMwpDcxZJ",
        "colab": {
          "base_uri": "https://localhost:8080/",
          "height": 435
        },
        "outputId": "e2de693b-72d6-4a60-9281-0e37d559f4fe"
      },
      "source": [
        "fig, ax = plt.subplots()\n",
        "ax.set_xlim([-1.01, -0.99])\n",
        "ax.set_ylim([0.99, 1.01])\n",
        "_ = ax.plot(x,y)"
      ],
      "execution_count": 8,
      "outputs": [
        {
          "output_type": "display_data",
          "data": {
            "text/plain": [
              "<Figure size 640x480 with 1 Axes>"
            ],
            "image/png": "[encoded data removed]"
          },
          "metadata": {}
        }
      ]
    },
    {
      "cell_type": "markdown",
      "metadata": {
        "id": "BJ0B4YNPcxZL"
      },
      "source": [
        "**Return to slides here.**"
      ]
    },
    {
      "cell_type": "markdown",
      "metadata": {
        "id": "38-6wbQocxZL"
      },
      "source": [
        "### Limits"
      ]
    },
    {
      "cell_type": "code",
      "metadata": {
        "id": "S7GSdz-ucxZM",
        "colab": {
          "base_uri": "https://localhost:8080/",
          "height": 435
        },
        "outputId": "779086e3-ea67-4aa9-fde7-fb7a7175d724"
      },
      "source": [
        "fig, ax = plt.subplots()\n",
        "plt.axvline(x=0, color='lightgray')\n",
        "plt.axhline(y=0, color='lightgray')\n",
        "plt.xlim(-5, 10)\n",
        "plt.ylim(-10, 80)\n",
        "plt.axvline(x=5, color='purple', linestyle='--')\n",
        "plt.axhline(y=37, color='purple', linestyle='--')\n",
        "_ = ax.plot(x,y)"
      ],
      "execution_count": 9,
      "outputs": [
        {
          "output_type": "display_data",
          "data": {
            "text/plain": [
              "<Figure size 640x480 with 1 Axes>"
            ],
            "image/png": "[encoded data removed]"
          },
          "metadata": {}
        }
      ]
    },
    {
      "cell_type": "markdown",
      "metadata": {
        "id": "AaRfRUYtcxZO"
      },
      "source": [
        "$$\\lim_{x \\to 1} \\frac{x^2 - 1}{x - 1}$$"
      ]
    },
    {
      "cell_type": "code",
      "metadata": {
        "id": "ZdDhpdiPcxZO"
      },
      "source": [
        "def my_fxn(my_x):\n",
        "    my_y = (my_x**2 - 1)/(my_x - 1)\n",
        "    return my_y"
      ],
      "execution_count": 10,
      "outputs": []
    },
    {
      "cell_type": "code",
      "metadata": {
        "id": "5xKbepf445LM",
        "colab": {
          "base_uri": "https://localhost:8080/"
        },
        "outputId": "9d11876d-4a26-4063-f1e3-6fc6107a544b"
      },
      "source": [
        "my_fxn(2)"
      ],
      "execution_count": 11,
      "outputs": [
        {
          "output_type": "execute_result",
          "data": {
            "text/plain": [
              "3.0"
            ]
          },
          "metadata": {},
          "execution_count": 11
        }
      ]
    },
    {
      "cell_type": "code",
      "metadata": {
        "id": "umrgvf3BcxZQ"
      },
      "source": [
        "# Uncommenting the following line results in a 'division by zero' error:\n",
        "# my_fxn(1)"
      ],
      "execution_count": null,
      "outputs": []
    },
    {
      "cell_type": "code",
      "metadata": {
        "id": "yeGqX8oscxZS"
      },
      "source": [
        "my_fxn(0.9)"
      ],
      "execution_count": null,
      "outputs": []
    },
    {
      "cell_type": "code",
      "metadata": {
        "id": "4unTKbu8cxZU"
      },
      "source": [
        "my_fxn(0.999)"
      ],
      "execution_count": null,
      "outputs": []
    },
    {
      "cell_type": "code",
      "metadata": {
        "id": "YuVfXKa5cxZW"
      },
      "source": [
        "my_fxn(1.1)"
      ],
      "execution_count": null,
      "outputs": []
    },
    {
      "cell_type": "code",
      "metadata": {
        "id": "x4eY1qWEcxZY"
      },
      "source": [
        "my_fxn(1.001)"
      ],
      "execution_count": null,
      "outputs": []
    },
    {
      "cell_type": "code",
      "metadata": {
        "id": "pjUtPQwAcxZb"
      },
      "source": [
        "y = my_fxn(x)"
      ],
      "execution_count": null,
      "outputs": []
    },
    {
      "cell_type": "code",
      "metadata": {
        "id": "Tg4Ow8k3cxZe"
      },
      "source": [
        "fig, ax = plt.subplots()\n",
        "plt.axvline(x=0, color='lightgray')\n",
        "plt.axhline(y=0, color='lightgray')\n",
        "plt.xlim(-1, 5)\n",
        "plt.ylim(-1, 5)\n",
        "plt.axvline(x=1, color='purple', linestyle='--')\n",
        "plt.axhline(y=2, color='purple', linestyle='--')\n",
        "_ = ax.plot(x,y)"
      ],
      "execution_count": null,
      "outputs": []
    },
    {
      "cell_type": "markdown",
      "metadata": {
        "id": "VQWYjKjVcxZf"
      },
      "source": [
        "**Return to slides here.**"
      ]
    },
    {
      "cell_type": "markdown",
      "metadata": {
        "id": "hc3PDahDcxZg"
      },
      "source": [
        "$$\\lim_{x \\to 0} \\frac{\\text{sin } x}{x}$$"
      ]
    },
    {
      "cell_type": "code",
      "metadata": {
        "id": "XDLZLagKcxZg"
      },
      "source": [
        "def sin_fxn(my_x):\n",
        "    my_y = np.sin(my_x)/my_x\n",
        "    return my_y"
      ],
      "execution_count": 12,
      "outputs": []
    },
    {
      "cell_type": "code",
      "metadata": {
        "id": "HU-B5ebBcxZi"
      },
      "source": [
        "# Uncommenting the following line results in a 'division by zero' error:\n",
        "# y = sin_fxn(0)"
      ],
      "execution_count": null,
      "outputs": []
    },
    {
      "cell_type": "code",
      "metadata": {
        "id": "YjIqAWnwcxZk",
        "colab": {
          "base_uri": "https://localhost:8080/"
        },
        "outputId": "5b5da8e6-b7bb-4a04-d48e-c757bccda2eb"
      },
      "source": [
        "sin_fxn(0.1)"
      ],
      "execution_count": 13,
      "outputs": [
        {
          "output_type": "execute_result",
          "data": {
            "text/plain": [
              "np.float64(0.9983341664682815)"
            ]
          },
          "metadata": {},
          "execution_count": 13
        }
      ]
    },
    {
      "cell_type": "code",
      "metadata": {
        "id": "mmTAnugUcxZm",
        "colab": {
          "base_uri": "https://localhost:8080/"
        },
        "outputId": "16bdd67a-9d78-4025-d67e-193d5b7a18cc"
      },
      "source": [
        "sin_fxn(0.001)"
      ],
      "execution_count": 14,
      "outputs": [
        {
          "output_type": "execute_result",
          "data": {
            "text/plain": [
              "np.float64(0.9999998333333416)"
            ]
          },
          "metadata": {},
          "execution_count": 14
        }
      ]
    },
    {
      "cell_type": "code",
      "metadata": {
        "id": "UFM_c1t_cxZp",
        "colab": {
          "base_uri": "https://localhost:8080/"
        },
        "outputId": "fa546baa-0215-4652-de2d-190f05741aee"
      },
      "source": [
        "sin_fxn(-0.1)"
      ],
      "execution_count": 15,
      "outputs": [
        {
          "output_type": "execute_result",
          "data": {
            "text/plain": [
              "np.float64(0.9983341664682815)"
            ]
          },
          "metadata": {},
          "execution_count": 15
        }
      ]
    },
    {
      "cell_type": "code",
      "metadata": {
        "id": "xrSXdv0ScxZr",
        "colab": {
          "base_uri": "https://localhost:8080/"
        },
        "outputId": "237a9ec6-02db-4080-b360-e8f4590e4e8c"
      },
      "source": [
        "sin_fxn(-0.001)"
      ],
      "execution_count": 16,
      "outputs": [
        {
          "output_type": "execute_result",
          "data": {
            "text/plain": [
              "np.float64(0.9999998333333416)"
            ]
          },
          "metadata": {},
          "execution_count": 16
        }
      ]
    },
    {
      "cell_type": "code",
      "metadata": {
        "id": "5nhhRmJTcxZs"
      },
      "source": [
        "y = sin_fxn(x)"
      ],
      "execution_count": 17,
      "outputs": []
    },
    {
      "cell_type": "code",
      "metadata": {
        "id": "bolWRmXmcxZu",
        "colab": {
          "base_uri": "https://localhost:8080/",
          "height": 435
        },
        "outputId": "491c0edd-1537-4703-929f-8f4c8e8d0ffe"
      },
      "source": [
        "fig, ax = plt.subplots()\n",
        "plt.axvline(x=0, color='lightgray')\n",
        "plt.axhline(y=0, color='lightgray')\n",
        "plt.xlim(-10, 10)\n",
        "plt.ylim(-1, 2)\n",
        "plt.axvline(x=0, color='purple', linestyle='--')\n",
        "plt.axhline(y=1, color='purple', linestyle='--')\n",
        "_ = ax.plot(x,y)"
      ],
      "execution_count": 18,
      "outputs": [
        {
          "output_type": "display_data",
          "data": {
            "text/plain": [
              "<Figure size 640x480 with 1 Axes>"
            ],
            "image/png": "[encoded data removed]"
          },
          "metadata": {}
        }
      ]
    },
    {
      "cell_type": "markdown",
      "metadata": {
        "id": "2OI8JVY6cxZw"
      },
      "source": [
        "**Return to slides here.**"
      ]
    },
    {
      "cell_type": "markdown",
      "metadata": {
        "id": "ly5b30kjcxZx"
      },
      "source": [
        "$$ \\lim_{x \\to \\infty} \\frac{25}{x} $$"
      ]
    },
    {
      "cell_type": "code",
      "metadata": {
        "id": "-WbP-XFncxZy"
      },
      "source": [
        "def inf_fxn(my_x):\n",
        "    my_y = 25/my_x\n",
        "    return my_y"
      ],
      "execution_count": null,
      "outputs": []
    },
    {
      "cell_type": "code",
      "metadata": {
        "id": "C-35M67YcxZ3"
      },
      "source": [
        "inf_fxn(1e3)"
      ],
      "execution_count": null,
      "outputs": []
    },
    {
      "cell_type": "code",
      "metadata": {
        "id": "jZ88FSTfcxZ5"
      },
      "source": [
        "inf_fxn(1e6)"
      ],
      "execution_count": null,
      "outputs": []
    },
    {
      "cell_type": "code",
      "metadata": {
        "id": "PwTJXJWWeDZT"
      },
      "source": [
        "y = inf_fxn(x)"
      ],
      "execution_count": null,
      "outputs": []
    },
    {
      "cell_type": "code",
      "metadata": {
        "id": "AwwKi3RMeBjV"
      },
      "source": [
        "fig, ax = plt.subplots()\n",
        "plt.axvline(x=0, color='lightgray')\n",
        "plt.axhline(y=0, color='lightgray')\n",
        "plt.xlim(-10, 10)\n",
        "plt.ylim(-300, 300)\n",
        "_ = ax.plot(x, y)"
      ],
      "execution_count": null,
      "outputs": []
    },
    {
      "cell_type": "code",
      "metadata": {
        "id": "2Rjoo4OKbmnB"
      },
      "source": [
        "left_x = x[x<0]\n",
        "right_x = x[x>0]"
      ],
      "execution_count": null,
      "outputs": []
    },
    {
      "cell_type": "code",
      "metadata": {
        "id": "sb9QiH6vcxZ0"
      },
      "source": [
        "left_y = inf_fxn(left_x)\n",
        "right_y = inf_fxn(right_x)"
      ],
      "execution_count": null,
      "outputs": []
    },
    {
      "cell_type": "code",
      "metadata": {
        "id": "vleskD0VcxZ7"
      },
      "source": [
        "fig, ax = plt.subplots()\n",
        "plt.axvline(x=0, color='lightgray')\n",
        "plt.axhline(y=0, color='lightgray')\n",
        "plt.xlim(-10, 10)\n",
        "plt.ylim(-300, 300)\n",
        "ax.plot(left_x, left_y, c='C0')\n",
        "_ = ax.plot(right_x, right_y, c='C0')"
      ],
      "execution_count": null,
      "outputs": []
    },
    {
      "cell_type": "markdown",
      "metadata": {
        "id": "bA2xg33LcxZ8"
      },
      "source": [
        "**Exercises:**\n",
        "\n",
        "Evaluate the limits below using techniques from the slides or above.\n",
        "\n",
        "1. $$ \\lim_{x \\to 0} \\frac{x^2-1}{x-1} $$\n",
        "2. $$ \\lim_{x \\to -5} \\frac{x^2-25}{x+5} $$\n",
        "3. $$ \\lim_{x \\to 4} \\frac{x^2 -2x -8}{x-4} $$\n",
        "4. $$ \\lim_{x \\to -\\infty} \\frac{25}{x} $$\n",
        "5. $$ \\lim_{x \\to 0} \\frac{25}{x} $$"
      ]
    },
    {
      "cell_type": "markdown",
      "metadata": {
        "id": "zIhHIcmzLTQQ"
      },
      "source": [
        "FYI: While not necessary for ML nor for this *ML Foundations* curriculum, the `SymPy` [symbolic mathematics library](https://www.sympy.org/en/index.html) includes a `limits()` method. You can read about applying it to evaluate limits of expressions [here](https://www.geeksforgeeks.org/python-sympy-limit-method/)."
      ]
    },
    {
      "cell_type": "markdown",
      "metadata": {
        "id": "AbAn1ChdcxZ9"
      },
      "source": [
        "**Return to slides here.**"
      ]
    },
    {
      "cell_type": "code",
      "source": [
        "def my_func(x_val):\n",
        "  y = x_val**2 + 2*x_val +2\n",
        "  return y"
      ],
      "metadata": {
        "id": "5k2waohpEBcZ"
      },
      "execution_count": 39,
      "outputs": []
    },
    {
      "cell_type": "code",
      "source": [
        "def diff_met(delta_x, x_val):\n",
        "  # find slope dy/dx = ^y/^x lim ^x ->0 : (f(x-^x) - f(x))/^x\n",
        "  slope_m = (my_func(x_val + delta_x) - my_func(x_val))/delta_x\n",
        "\n",
        "  return slope_m\n"
      ],
      "metadata": {
        "id": "9duj23erEPs9"
      },
      "execution_count": 40,
      "outputs": []
    },
    {
      "cell_type": "code",
      "source": [
        "delta_x = [1.5,0.5,0.05,0.0001,0.000000001,0.000000000000009]\n",
        "\n",
        "for delta in delta_x:\n",
        "  print(diff_met(delta,-1))"
      ],
      "metadata": {
        "id": "Chzf0JX5FWRb",
        "outputId": "28679ddb-d3f2-4df1-ceed-852fedb6cfd0",
        "colab": {
          "base_uri": "https://localhost:8080/"
        }
      },
      "execution_count": 43,
      "outputs": [
        {
          "output_type": "stream",
          "name": "stdout",
          "text": [
            "1.5\n",
            "0.5\n",
            "0.049999999999998934\n",
            "9.99999993922529e-05\n",
            "0.0\n",
            "0.0\n"
          ]
        }
      ]
    },
    {
      "cell_type": "markdown",
      "metadata": {
        "id": "e7cnhfOYcxZ9"
      },
      "source": [
        "## Segment 2: Computing Derivatives with Differentiation"
      ]
    },
    {
      "cell_type": "markdown",
      "metadata": {
        "id": "CDn8BeCDcxZ9"
      },
      "source": [
        "Let's bring back our ol' buddy $y = x^2 + 2x + 2$:"
      ]
    },
    {
      "cell_type": "code",
      "metadata": {
        "id": "Dk2EXlqccxZ-"
      },
      "source": [
        "def f(my_x):\n",
        "    my_y = my_x**2 + 2*my_x + 2\n",
        "    return my_y"
      ],
      "execution_count": 19,
      "outputs": []
    },
    {
      "cell_type": "code",
      "metadata": {
        "id": "SLmyyYdEcxaA"
      },
      "source": [
        "y = f(x)"
      ],
      "execution_count": 20,
      "outputs": []
    },
    {
      "cell_type": "code",
      "metadata": {
        "id": "eNIlXWeQcxaC",
        "colab": {
          "base_uri": "https://localhost:8080/",
          "height": 430
        },
        "outputId": "d1d1f3b7-b73e-4eff-c99e-7d2ed27e74ab"
      },
      "source": [
        "fig, ax = plt.subplots()\n",
        "plt.axvline(x=0, color='lightgray')\n",
        "plt.axhline(y=0, color='lightgray')\n",
        "_ = ax.plot(x,y)"
      ],
      "execution_count": 21,
      "outputs": [
        {
          "output_type": "display_data",
          "data": {
            "text/plain": [
              "<Figure size 640x480 with 1 Axes>"
            ],
            "image/png": "[encoded data removed]"
          },
          "metadata": {}
        }
      ]
    },
    {
      "cell_type": "markdown",
      "metadata": {
        "id": "h7C7nPEhcxaD"
      },
      "source": [
        "Let's identify the slope where, say, $x = 2$."
      ]
    },
    {
      "cell_type": "markdown",
      "metadata": {
        "id": "DeVa3RrtcxaE"
      },
      "source": [
        "First, let's determine what $y$ is:"
      ]
    },
    {
      "cell_type": "code",
      "metadata": {
        "id": "hz5oolNEcxaE",
        "colab": {
          "base_uri": "https://localhost:8080/"
        },
        "outputId": "76939f5c-f2db-40a7-fd1a-6d342163ebcc"
      },
      "source": [
        "f(-1)"
      ],
      "execution_count": 23,
      "outputs": [
        {
          "output_type": "execute_result",
          "data": {
            "text/plain": [
              "1"
            ]
          },
          "metadata": {},
          "execution_count": 23
        }
      ]
    },
    {
      "cell_type": "markdown",
      "metadata": {
        "id": "7fkzBRR5cxaF"
      },
      "source": [
        "Cool. Let's call this point $P$, which is located at (2, 10):"
      ]
    },
    {
      "cell_type": "code",
      "metadata": {
        "id": "IOI2oxj2cxaG",
        "colab": {
          "base_uri": "https://localhost:8080/",
          "height": 430
        },
        "outputId": "8b6045a4-02c9-4f1e-bbaa-82bffa7706e8"
      },
      "source": [
        "fig, ax = plt.subplots()\n",
        "plt.axvline(x=0, color='lightgray')\n",
        "plt.axhline(y=0, color='lightgray')\n",
        "plt.scatter(-1, 1) # new\n",
        "_ = ax.plot(x,y)"
      ],
      "execution_count": 25,
      "outputs": [
        {
          "output_type": "display_data",
          "data": {
            "text/plain": [
              "<Figure size 640x480 with 1 Axes>"
            ],
            "image/png": "[encoded data removed]"
          },
          "metadata": {}
        }
      ]
    },
    {
      "cell_type": "markdown",
      "metadata": {
        "id": "PPCiF6CacxaI"
      },
      "source": [
        "The _delta method_ uses the difference between two points to calculate slope. To illustrate this, let's define another point, $Q$ where, say, $x = 5$."
      ]
    },
    {
      "cell_type": "code",
      "metadata": {
        "id": "YAP0LJnxcxaI",
        "colab": {
          "base_uri": "https://localhost:8080/"
        },
        "outputId": "548fc465-2588-4dd1-ca6c-65a3c16e756c"
      },
      "source": [
        "f(-2.5)"
      ],
      "execution_count": 27,
      "outputs": [
        {
          "output_type": "execute_result",
          "data": {
            "text/plain": [
              "3.25"
            ]
          },
          "metadata": {},
          "execution_count": 27
        }
      ]
    },
    {
      "cell_type": "code",
      "metadata": {
        "id": "usfMMyTvcxaK",
        "colab": {
          "base_uri": "https://localhost:8080/",
          "height": 430
        },
        "outputId": "38c586ae-9c51-4a83-b285-40ca2ceeeba9"
      },
      "source": [
        "fig, ax = plt.subplots()\n",
        "plt.axvline(x=0, color='lightgray')\n",
        "plt.axhline(y=0, color='lightgray')\n",
        "plt.scatter(-1, 1)\n",
        "plt.scatter(-2.5, 3.25, c = 'orange', zorder=3) # new\n",
        "_ = ax.plot(x,y)"
      ],
      "execution_count": 28,
      "outputs": [
        {
          "output_type": "display_data",
          "data": {
            "text/plain": [
              "<Figure size 640x480 with 1 Axes>"
            ],
            "image/png": "[encoded data removed]"
          },
          "metadata": {}
        }
      ]
    },
    {
      "cell_type": "markdown",
      "metadata": {
        "id": "kdony9sucxaM"
      },
      "source": [
        "To find the slope $m$ between points $P$ and $Q$:\n",
        "$$m = \\frac{\\text{change in }y}{\\text{change in }x} = \\frac{\\Delta y}{\\Delta x} = \\frac{y_2 - y_1}{x_2 - x_1} = \\frac{37-10}{5-2} = \\frac{27}{3} = 9$$"
      ]
    },
    {
      "cell_type": "code",
      "metadata": {
        "id": "kgoU-_wzcxaM",
        "colab": {
          "base_uri": "https://localhost:8080/"
        },
        "outputId": "2f8f570f-be1b-4f79-c275-6b6bfccb59f4"
      },
      "source": [
        "m = (3.25-1)/(-2.5+1)\n",
        "m"
      ],
      "execution_count": 29,
      "outputs": [
        {
          "output_type": "execute_result",
          "data": {
            "text/plain": [
              "-1.5"
            ]
          },
          "metadata": {},
          "execution_count": 29
        }
      ]
    },
    {
      "cell_type": "markdown",
      "metadata": {
        "id": "ZWtSUfLVcxaP"
      },
      "source": [
        "To plot the line that passes through $P$ and $Q$, we can rearrange the equation of a line $y = mx + b$ to solve for $b$:\n",
        "$$b = y - mx$$"
      ]
    },
    {
      "cell_type": "code",
      "metadata": {
        "id": "UuYXrltscxaP",
        "colab": {
          "base_uri": "https://localhost:8080/"
        },
        "outputId": "7544d0b2-7a32-481a-80c8-5953218aa840"
      },
      "source": [
        "b = 3.25-m*(-2.5)\n",
        "b"
      ],
      "execution_count": 30,
      "outputs": [
        {
          "output_type": "execute_result",
          "data": {
            "text/plain": [
              "-0.5"
            ]
          },
          "metadata": {},
          "execution_count": 30
        }
      ]
    },
    {
      "cell_type": "code",
      "metadata": {
        "id": "AwawB1LLcxaR"
      },
      "source": [
        "line_y = m*x + b"
      ],
      "execution_count": 31,
      "outputs": []
    },
    {
      "cell_type": "code",
      "metadata": {
        "id": "Lkg2Bl7TcxaT",
        "colab": {
          "base_uri": "https://localhost:8080/",
          "height": 430
        },
        "outputId": "6f2c880e-5fad-4e4f-d632-94b7120c827e"
      },
      "source": [
        "fig, ax = plt.subplots()\n",
        "plt.axvline(x=0, color='lightgray')\n",
        "plt.axhline(y=0, color='lightgray')\n",
        "plt.scatter(-1, 1)\n",
        "plt.scatter(-2.5, 3.25, c = 'orange', zorder=3) # new\n",
        "plt.ylim(-5, 150) # new\n",
        "plt.plot(x, line_y, c='orange') # new\n",
        "_ = ax.plot(x,y)"
      ],
      "execution_count": 32,
      "outputs": [
        {
          "output_type": "display_data",
          "data": {
            "text/plain": [
              "<Figure size 640x480 with 1 Axes>"
            ],
            "image/png": "[encoded data removed]"
          },
          "metadata": {}
        }
      ]
    },
    {
      "cell_type": "markdown",
      "metadata": {
        "id": "RGEaUT_OcxaV"
      },
      "source": [
        "The closer $Q$ becomes to $P$, the closer the slope $m$ comes to being the true tangent of the point $P$. Let's demonstrate this with another point $Q$ at $x = 2.1$."
      ]
    },
    {
      "cell_type": "markdown",
      "metadata": {
        "id": "xWAJUiEbcxaV"
      },
      "source": [
        "Previously, our $\\Delta x$ between $Q$ and $P$ was equal to 3. Now it is much smaller: $$\\Delta x = x_2 - x_1 = 2.1 - 2 = 0.1 $$"
      ]
    },
    {
      "cell_type": "code",
      "metadata": {
        "id": "-XDEG_o7cxaV"
      },
      "source": [
        "f(2.1)"
      ],
      "execution_count": null,
      "outputs": []
    },
    {
      "cell_type": "code",
      "metadata": {
        "id": "85n3ApTmcxaX"
      },
      "source": [
        "fig, ax = plt.subplots()\n",
        "plt.axvline(x=0, color='lightgray')\n",
        "plt.axhline(y=0, color='lightgray')\n",
        "plt.scatter(2, 10)\n",
        "plt.scatter(2.1, 10.61, c = 'orange', zorder=3)\n",
        "_ = ax.plot(x,y)"
      ],
      "execution_count": null,
      "outputs": []
    },
    {
      "cell_type": "code",
      "metadata": {
        "id": "YlWhoumBcxaY"
      },
      "source": [
        "m = (10.61-10)/(2.1-2)\n",
        "m"
      ],
      "execution_count": null,
      "outputs": []
    },
    {
      "cell_type": "code",
      "metadata": {
        "id": "KHMZNdjQcxaa"
      },
      "source": [
        "b = 10.61-m*2.1\n",
        "b"
      ],
      "execution_count": null,
      "outputs": []
    },
    {
      "cell_type": "code",
      "metadata": {
        "id": "J1-_0DBJcxab"
      },
      "source": [
        "line_y = m*x + b"
      ],
      "execution_count": null,
      "outputs": []
    },
    {
      "cell_type": "code",
      "metadata": {
        "id": "eDtjdRYQcxad"
      },
      "source": [
        "fig, ax = plt.subplots()\n",
        "plt.axvline(x=0, color='lightgray')\n",
        "plt.axhline(y=0, color='lightgray')\n",
        "plt.scatter(2, 10)\n",
        "plt.scatter(2.1, 10.61, c='orange', zorder=3)\n",
        "plt.ylim(-5, 150)\n",
        "plt.plot(x, line_y, c='orange', zorder=3)\n",
        "_ = ax.plot(x,y)"
      ],
      "execution_count": null,
      "outputs": []
    },
    {
      "cell_type": "markdown",
      "metadata": {
        "id": "elxPRnoTcxae"
      },
      "source": [
        "The closer $Q$ becomes to $P$ (i.e., $\\Delta x$ approaches 0), the clearer it becomes that the slope $m$ at point $P$ = (2, 10) is equal to 6."
      ]
    },
    {
      "cell_type": "markdown",
      "metadata": {
        "id": "srMjU62xcxaf"
      },
      "source": [
        "Let's make $\\Delta x$ extremely small, 0.000001, to illustrate this:"
      ]
    },
    {
      "cell_type": "code",
      "metadata": {
        "id": "c_B0wY47cxaf"
      },
      "source": [
        "delta_x = 0.000001\n",
        "delta_x"
      ],
      "execution_count": null,
      "outputs": []
    },
    {
      "cell_type": "code",
      "metadata": {
        "id": "g8LSgemacxai"
      },
      "source": [
        "x1 = 2\n",
        "y1 = 10"
      ],
      "execution_count": null,
      "outputs": []
    },
    {
      "cell_type": "markdown",
      "metadata": {
        "id": "gsa2I2Jxcxaj"
      },
      "source": [
        "Rearranging $\\Delta x = x_2 - x_1$, we can calculate $x_2$ for our point $Q$, which is now extremely close to $P$:\n",
        "$$x_2 = x_1 + \\Delta x$$"
      ]
    },
    {
      "cell_type": "code",
      "metadata": {
        "id": "4PgqVCZVcxak"
      },
      "source": [
        "x2 = x1 + delta_x\n",
        "x2"
      ],
      "execution_count": null,
      "outputs": []
    },
    {
      "cell_type": "markdown",
      "metadata": {
        "id": "FoBqhu1zcxan"
      },
      "source": [
        "$y_2$ for our point $Q$ can be obtained with the usual function $f(x)$:\n",
        "$$y_2 = f(x_2)$$"
      ]
    },
    {
      "cell_type": "code",
      "metadata": {
        "id": "9_2mjm1Ycxan"
      },
      "source": [
        "y2 = f(x2)\n",
        "y2"
      ],
      "execution_count": null,
      "outputs": []
    },
    {
      "cell_type": "markdown",
      "metadata": {
        "id": "Eekls7AIcxap"
      },
      "source": [
        "To find the slope $m$, we continue to use $$m = \\frac{\\Delta y}{\\Delta x} = \\frac{y_2 - y_1}{x_2 - x_1}$$"
      ]
    },
    {
      "cell_type": "code",
      "metadata": {
        "id": "yQAwKXPUcxap"
      },
      "source": [
        "m = (y2 - y1)/(x2 - x1)\n",
        "m"
      ],
      "execution_count": null,
      "outputs": []
    },
    {
      "cell_type": "markdown",
      "metadata": {
        "id": "IEy7jMVpcxar"
      },
      "source": [
        "Boom! Using the delta method, we've shown that at point $P$, the slope of the curve is 6."
      ]
    },
    {
      "cell_type": "markdown",
      "metadata": {
        "id": "GJ7bRkBvcxar"
      },
      "source": [
        "**Exercise**: Using the delta method, find the slope of the tangent where $x = -1$."
      ]
    },
    {
      "cell_type": "markdown",
      "metadata": {
        "id": "pV8Vpgvdcxar"
      },
      "source": [
        "**Spoiler alert! The solution's below.**"
      ]
    },
    {
      "cell_type": "code",
      "metadata": {
        "id": "65FeJSRocxaz"
      },
      "source": [
        "x1 = -1"
      ],
      "execution_count": null,
      "outputs": []
    },
    {
      "cell_type": "code",
      "metadata": {
        "id": "fAIGLk8Mcxa0"
      },
      "source": [
        "y1 = f(x1)\n",
        "y1"
      ],
      "execution_count": null,
      "outputs": []
    },
    {
      "cell_type": "markdown",
      "metadata": {
        "id": "SZowMdIQcxa1"
      },
      "source": [
        "Point $P$ is located at (-1, 1)"
      ]
    },
    {
      "cell_type": "code",
      "metadata": {
        "id": "-CPHl783cxa1"
      },
      "source": [
        "delta_x"
      ],
      "execution_count": null,
      "outputs": []
    },
    {
      "cell_type": "code",
      "metadata": {
        "id": "jzw0J1n9cxa2"
      },
      "source": [
        "x2 = x1 + delta_x\n",
        "x2"
      ],
      "execution_count": null,
      "outputs": []
    },
    {
      "cell_type": "code",
      "metadata": {
        "id": "WaynVKiwcxa3"
      },
      "source": [
        "y2 = f(x2)\n",
        "y2"
      ],
      "execution_count": null,
      "outputs": []
    },
    {
      "cell_type": "markdown",
      "metadata": {
        "id": "rApig2ipcxa4"
      },
      "source": [
        "Quick aside: Pertinent to defining differentiation as an equation, an alternative way to calculate $y_2$ is $f(x + \\Delta x)$"
      ]
    },
    {
      "cell_type": "code",
      "metadata": {
        "id": "yCW283sZcxa4"
      },
      "source": [
        "y2 = f(x1 + delta_x)\n",
        "y2"
      ],
      "execution_count": null,
      "outputs": []
    },
    {
      "cell_type": "markdown",
      "metadata": {
        "id": "S1Dr3Ankcxa7"
      },
      "source": [
        "Point $Q$ is at (-0.999999, 1.000000000001), extremely close to $P$."
      ]
    },
    {
      "cell_type": "code",
      "metadata": {
        "id": "ZtokXlMncxa7"
      },
      "source": [
        "m = (y2-y1)/(x2-x1)\n",
        "m"
      ],
      "execution_count": null,
      "outputs": []
    },
    {
      "cell_type": "markdown",
      "metadata": {
        "id": "91slg8F4cxa8"
      },
      "source": [
        "Therefore, as $x_2$ becomes infinitely close to $x_1$, it becomes clear that the slope $m$ at $x_1 = -1$ is equal to zero. Let's plot it out:"
      ]
    },
    {
      "cell_type": "code",
      "metadata": {
        "id": "2WToJBOhcxa8"
      },
      "source": [
        "b = y2-m*x2\n",
        "b"
      ],
      "execution_count": null,
      "outputs": []
    },
    {
      "cell_type": "code",
      "metadata": {
        "id": "ah0cXRhrcxa9"
      },
      "source": [
        "line_y = m*x + b"
      ],
      "execution_count": null,
      "outputs": []
    },
    {
      "cell_type": "code",
      "metadata": {
        "id": "MjLttDg9cxa-"
      },
      "source": [
        "fig, ax = plt.subplots()\n",
        "plt.axvline(x=0, color='lightgray')\n",
        "plt.axhline(y=0, color='lightgray')\n",
        "plt.scatter(x1, y1)\n",
        "plt.scatter(x2, y2, c='orange', zorder=3)\n",
        "plt.ylim(-5, 150)\n",
        "plt.plot(x, line_y, c='orange', zorder=3)\n",
        "_ = ax.plot(x,y)"
      ],
      "execution_count": null,
      "outputs": []
    },
    {
      "cell_type": "markdown",
      "metadata": {
        "id": "hqmMtmpGcxbA"
      },
      "source": [
        "As $Q$ becomes infinitely close to $P$:\n",
        "* $x_2$ - $x_1$ approaches 0\n",
        "* In other words, $\\Delta x$ approaches 0\n",
        "* This can be denoted as $\\Delta x \\to 0$"
      ]
    },
    {
      "cell_type": "markdown",
      "metadata": {
        "id": "nsh_7o7kcxbA"
      },
      "source": [
        "Using the delta method, we've derived the definition of differentiation from first principles. The derivative of $y$ (denoted $dy$) with respect to $x$ (denoted $dx$) can be represented as:\n",
        "$$\\frac{dy}{dx} = \\lim_{\\Delta x \\to 0} \\frac{\\Delta y}{\\Delta x}$$"
      ]
    },
    {
      "cell_type": "markdown",
      "metadata": {
        "id": "UxuWTEKlcxbA"
      },
      "source": [
        "Expanding $\\Delta y$ out to $y_2 - y_1$:\n",
        "$$\\frac{dy}{dx} = \\lim_{\\Delta x \\to 0} \\frac{y_2 - y_1}{\\Delta x}$$"
      ]
    },
    {
      "cell_type": "markdown",
      "metadata": {
        "id": "b0H4kFkYcxbB"
      },
      "source": [
        "Finally, replacing $y_1$ with $f(x)$ and replacing $y_2$ with $f(x + \\Delta x)$, we obtain a common representation of differentiation:\n",
        "$$\\frac{dy}{dx} = \\lim_{\\Delta x \\to 0} \\frac{f(x + \\Delta x) - f(x)}{\\Delta x}$$"
      ]
    },
    {
      "cell_type": "markdown",
      "metadata": {
        "id": "SuYWQ9e1cxbB"
      },
      "source": [
        "Let's observe the differentiation equation in action:"
      ]
    },
    {
      "cell_type": "code",
      "metadata": {
        "id": "Do6EHZfHcxbB"
      },
      "source": [
        "def diff_demo(my_f, my_x, my_delta):\n",
        "    return (my_f(my_x + my_delta) - my_f(my_x)) / my_delta"
      ],
      "execution_count": null,
      "outputs": []
    },
    {
      "cell_type": "code",
      "metadata": {
        "id": "hXbAgWvrcxbC"
      },
      "source": [
        "deltas = [1, 0.1, 0.01, 0.001, 0.0001, 0.00001, 0.000001]"
      ],
      "execution_count": null,
      "outputs": []
    },
    {
      "cell_type": "code",
      "metadata": {
        "id": "iYtlA3S5cxbD"
      },
      "source": [
        "for delta in deltas:\n",
        "    print(diff_demo(f, 2, delta))"
      ],
      "execution_count": null,
      "outputs": []
    },
    {
      "cell_type": "code",
      "metadata": {
        "id": "CMW45DQmcxbF",
        "scrolled": true
      },
      "source": [
        "for delta in deltas:\n",
        "    print(diff_demo(f, -1, delta))"
      ],
      "execution_count": null,
      "outputs": []
    },
    {
      "cell_type": "markdown",
      "metadata": {
        "id": "Kh8vawMMcxbG"
      },
      "source": [
        "**Return to slides here.**"
      ]
    },
    {
      "cell_type": "markdown",
      "metadata": {
        "id": "Ez8pKj_lcxbG"
      },
      "source": [
        "## Segment 3: Automatic Differentiation"
      ]
    },
    {
      "cell_type": "markdown",
      "metadata": {
        "id": "laWM6cgvcxbG"
      },
      "source": [
        "**TensorFlow** and **PyTorch** are the two most popular automatic differentiation libraries."
      ]
    },
    {
      "cell_type": "markdown",
      "metadata": {
        "id": "RLi7jwLEzaDB"
      },
      "source": [
        "Let's use them to calculate $dy/dx$ at $x = 5$ where:"
      ]
    },
    {
      "cell_type": "markdown",
      "metadata": {
        "id": "qmgeCDWycxbL"
      },
      "source": [
        "$$y = x^2$$"
      ]
    },
    {
      "cell_type": "markdown",
      "metadata": {
        "id": "MhMxT9oQcxbL"
      },
      "source": [
        "$$ \\frac{dy}{dx} = 2x = 2(5) = 10 $$"
      ]
    },
    {
      "cell_type": "markdown",
      "metadata": {
        "id": "Zg-PepdncxbN"
      },
      "source": [
        "### Autodiff with PyTorch"
      ]
    },
    {
      "cell_type": "code",
      "metadata": {
        "id": "n8FJ1OkWcxbN"
      },
      "source": [
        "import torch"
      ],
      "execution_count": null,
      "outputs": []
    },
    {
      "cell_type": "code",
      "metadata": {
        "id": "DTYVufujcxbP"
      },
      "source": [
        "x = torch.tensor(5.0)"
      ],
      "execution_count": null,
      "outputs": []
    },
    {
      "cell_type": "code",
      "metadata": {
        "id": "13j9vFZgcxbP"
      },
      "source": [
        "x"
      ],
      "execution_count": null,
      "outputs": []
    },
    {
      "cell_type": "code",
      "metadata": {
        "id": "PBLvpsCWcxbQ"
      },
      "source": [
        "x.requires_grad_() # contagiously track gradients through forward pass"
      ],
      "execution_count": null,
      "outputs": []
    },
    {
      "cell_type": "code",
      "metadata": {
        "id": "zper8WoVcxbR"
      },
      "source": [
        "y = x**2"
      ],
      "execution_count": null,
      "outputs": []
    },
    {
      "cell_type": "code",
      "metadata": {
        "id": "1Pbdg7zVcxbS"
      },
      "source": [
        "y.backward() # use autodiff"
      ],
      "execution_count": null,
      "outputs": []
    },
    {
      "cell_type": "code",
      "metadata": {
        "id": "UbV3BecacxbT"
      },
      "source": [
        "x.grad"
      ],
      "execution_count": null,
      "outputs": []
    },
    {
      "cell_type": "markdown",
      "metadata": {
        "id": "dyB3FghkcxbG"
      },
      "source": [
        "### Autodiff with TensorFlow"
      ]
    },
    {
      "cell_type": "code",
      "metadata": {
        "id": "4D12um9kcxbH"
      },
      "source": [
        "import tensorflow as tf"
      ],
      "execution_count": null,
      "outputs": []
    },
    {
      "cell_type": "code",
      "metadata": {
        "id": "f7mQuelZcxbJ"
      },
      "source": [
        "x = tf.Variable(5.0)"
      ],
      "execution_count": null,
      "outputs": []
    },
    {
      "cell_type": "code",
      "metadata": {
        "id": "M-WeFuBfcxbK"
      },
      "source": [
        "with tf.GradientTape() as t:\n",
        "    t.watch(x) # track forward pass\n",
        "    y = x**2"
      ],
      "execution_count": null,
      "outputs": []
    },
    {
      "cell_type": "code",
      "metadata": {
        "id": "Txjp5NBNcxbL"
      },
      "source": [
        "t.gradient(y, x) # use autodiff"
      ],
      "execution_count": null,
      "outputs": []
    },
    {
      "cell_type": "markdown",
      "metadata": {
        "id": "dS--vwVWzaDD"
      },
      "source": [
        "**Return to slides here.**"
      ]
    },
    {
      "cell_type": "markdown",
      "metadata": {
        "id": "l599s7vacxbV"
      },
      "source": [
        "As usual, PyTorch feels more intuitive and pythonic than TensorFlow. See the standalone [*Regression in PyTorch*](https://github.com/jonkrohn/ML-foundations/blob/master/notebooks/regression-in-pytorch.ipynb) notebook for an example of autodiff paired with gradient descent in order to fit a simple regression line."
      ]
    }
  ]
}